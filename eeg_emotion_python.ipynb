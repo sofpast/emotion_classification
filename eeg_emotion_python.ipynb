{
  "cells": [
    {
      "cell_type": "code",
      "execution_count": 1,
      "metadata": {
        "id": "mHy8FWr0Jb01"
      },
      "outputs": [],
      "source": [
        "import os\n",
        "import sys\n",
        "\n",
        "import pandas as pd\n",
        "import numpy as np\n",
        "\n",
        "import pywt\n",
        "import scipy.io as spio\n",
        "from scipy.stats import entropy\n",
        "from collections import Counter\n",
        "\n",
        "from sklearn import svm\n",
        "from sklearn.preprocessing import normalize\n",
        "from sklearn.model_selection import train_test_split\n",
        "from sklearn.model_selection import GridSearchCV\n",
        "from sklearn.svm import SVC\n",
        "from sklearn.metrics import classification_report\n",
        "\n",
        "import timeit"
      ]
    },
    {
      "cell_type": "code",
      "execution_count": 39,
      "metadata": {
        "colab": {
          "base_uri": "https://localhost:8080/",
          "height": 90
        },
        "id": "xA-SVLx8JrV1",
        "outputId": "7f4c850d-7761-44f4-df88-be9964df14c5"
      },
      "outputs": [
        {
          "data": {
            "application/vnd.google.colaboratory.intrinsic+json": {
              "type": "string"
            },
            "text/plain": [
              "'\\n   Authors: Shivam Chaudhary\\n            Centre of Behavioural and Cognitive Sciences, Allahabad\\n   In this project we will be recognising Emotion of a Human being from EEG signal.\\n   About the data set : The data set is called the seed data set.\\n   It contains data of 15 people that underwent trails 15 times each thrice.\\n\\n           Total data items =  15 (subjects) * 15 (trials each) * 3 (sessions each)\\n                            = 675 data items\\n\\n   Our project consists of 4 modules, namely : pre processing, feature extraction, feature reduction and classification,\\n   all of which are mentioned in detail in the black book.\\n\\n'"
            ]
          },
          "execution_count": 39,
          "metadata": {
            "tags": []
          },
          "output_type": "execute_result"
        }
      ],
      "source": [
        "'''\n",
        "   Authors: Shivam Chaudhary\n",
        "            Centre for Brain and Cognitive Science, Indian Institute of Technology Gandhinagar \n",
        "   In this project we will be recognising Emotion of a Human being from EEG signal.\n",
        "   About the data set : The data set is called the seed data set.\n",
        "   It contains data of 15 people that underwent trails 15 times each thrice.\n",
        "\n",
        "           Total data items =  15 (subjects) * 15 (trials each) * 3 (sessions each)\n",
        "                            = 675 data items\n",
        "\n",
        "   Our project consists of 4 modules, namely : pre processing, feature extraction, feature reduction and classification,\n",
        "   all of which are mentioned in detail in the black book.\n",
        "\n",
        "'''"
      ]
    },
    {
      "cell_type": "code",
      "execution_count": 2,
      "metadata": {
        "id": "5rjOC6NHclK2"
      },
      "outputs": [],
      "source": [
        "WAVELET = \"db6\"\n",
        "MAX_LEVEL = 5"
      ]
    },
    {
      "cell_type": "code",
      "execution_count": 41,
      "metadata": {
        "colab": {
          "base_uri": "https://localhost:8080/"
        },
        "id": "2TBRe0rNKPOW",
        "outputId": "00cf8cf1-5b36-4003-f3e1-e19557ed0f2c"
      },
      "outputs": [
        {
          "name": "stdout",
          "output_type": "stream",
          "text": [
            "Drive already mounted at /content/drive; to attempt to forcibly remount, call drive.mount(\"/content/drive\", force_remount=True).\n"
          ]
        }
      ],
      "source": [
        "# # Connecting google drive\n",
        "# from google.colab import drive\n",
        "# drive.mount('/content/drive')\n",
        "# #4/1AY0e-g7fln4EfIjw7IjtOGqkoh3Y0EUpKlncOdTR6o4uuu3XqPjYElTbIwo"
      ]
    },
    {
      "cell_type": "code",
      "execution_count": 3,
      "metadata": {
        "colab": {
          "base_uri": "https://localhost:8080/",
          "height": 36
        },
        "id": "3lnGMQvTJ9Pq",
        "outputId": "29a4b1b2-c61e-4af1-801a-fc54d476673e"
      },
      "outputs": [],
      "source": [
        "# dir = \"/content/drive/MyDrive/EEG-emotion-python/seed dataset/SEED\"\n",
        "dir = \"data/eeg_raw_data/1\"\n",
        "# os.chdir(dir)\n",
        "# os.getcwd()"
      ]
    },
    {
      "cell_type": "code",
      "execution_count": 4,
      "metadata": {
        "id": "OieGOhu9Mp-H"
      },
      "outputs": [],
      "source": [
        "# Unzip the data file\n",
        "# # Do only once\n",
        "# import zipfile\n",
        "# with zipfile.ZipFile(\"ExtractedFeatures.zip\", 'r') as zip_ref:\n",
        "#     zip_ref.extractall(os.getcwd() + \"/temp\")\n",
        "# !unzip -u \"/content/drive/MyDrive/EEG-emotion-python/seed dataset/SEED/Preprocessed_EEG.zip\" -d \"/content/drive/MyDrive/EEG-emotion-python/seed dataset/SEED/temp\""
      ]
    },
    {
      "cell_type": "code",
      "execution_count": 5,
      "metadata": {
        "colab": {
          "base_uri": "https://localhost:8080/",
          "height": 206
        },
        "id": "lvo7MF4OLVf_",
        "outputId": "f9bda06c-50d4-48db-bdaa-b990c4f984e8"
      },
      "outputs": [
        {
          "data": {
            "text/html": [
              "<div>\n",
              "<style scoped>\n",
              "    .dataframe tbody tr th:only-of-type {\n",
              "        vertical-align: middle;\n",
              "    }\n",
              "\n",
              "    .dataframe tbody tr th {\n",
              "        vertical-align: top;\n",
              "    }\n",
              "\n",
              "    .dataframe thead th {\n",
              "        text-align: right;\n",
              "    }\n",
              "</style>\n",
              "<table border=\"1\" class=\"dataframe\">\n",
              "  <thead>\n",
              "    <tr style=\"text-align: right;\">\n",
              "      <th></th>\n",
              "      <th>0</th>\n",
              "    </tr>\n",
              "  </thead>\n",
              "  <tbody>\n",
              "    <tr>\n",
              "      <th>0</th>\n",
              "      <td>FP1</td>\n",
              "    </tr>\n",
              "    <tr>\n",
              "      <th>1</th>\n",
              "      <td>FPZ</td>\n",
              "    </tr>\n",
              "    <tr>\n",
              "      <th>2</th>\n",
              "      <td>FP2</td>\n",
              "    </tr>\n",
              "    <tr>\n",
              "      <th>3</th>\n",
              "      <td>AF3</td>\n",
              "    </tr>\n",
              "    <tr>\n",
              "      <th>4</th>\n",
              "      <td>AF4</td>\n",
              "    </tr>\n",
              "  </tbody>\n",
              "</table>\n",
              "</div>"
            ],
            "text/plain": [
              "     0\n",
              "0  FP1\n",
              "1  FPZ\n",
              "2  FP2\n",
              "3  AF3\n",
              "4  AF4"
            ]
          },
          "execution_count": 5,
          "metadata": {},
          "output_type": "execute_result"
        }
      ],
      "source": [
        "# reading the channel order for dataframe\n",
        "channel_order = pd.read_excel(\"Channel Order.xlsx\", header=None)\n",
        "channel_order.head()"
      ]
    },
    {
      "cell_type": "code",
      "execution_count": 44,
      "metadata": {
        "colab": {
          "base_uri": "https://localhost:8080/",
          "height": 206
        },
        "id": "teYc7UyCLx0g",
        "outputId": "4b7b1667-37ea-4974-aa3f-53733e888068"
      },
      "outputs": [
        {
          "data": {
            "text/html": [
              "<div>\n",
              "<style scoped>\n",
              "    .dataframe tbody tr th:only-of-type {\n",
              "        vertical-align: middle;\n",
              "    }\n",
              "\n",
              "    .dataframe tbody tr th {\n",
              "        vertical-align: top;\n",
              "    }\n",
              "\n",
              "    .dataframe thead th {\n",
              "        text-align: right;\n",
              "    }\n",
              "</style>\n",
              "<table border=\"1\" class=\"dataframe\">\n",
              "  <thead>\n",
              "    <tr style=\"text-align: right;\">\n",
              "      <th></th>\n",
              "      <th>0</th>\n",
              "    </tr>\n",
              "  </thead>\n",
              "  <tbody>\n",
              "    <tr>\n",
              "      <th>0</th>\n",
              "      <td>1</td>\n",
              "    </tr>\n",
              "    <tr>\n",
              "      <th>1</th>\n",
              "      <td>0</td>\n",
              "    </tr>\n",
              "    <tr>\n",
              "      <th>2</th>\n",
              "      <td>-1</td>\n",
              "    </tr>\n",
              "    <tr>\n",
              "      <th>3</th>\n",
              "      <td>-1</td>\n",
              "    </tr>\n",
              "    <tr>\n",
              "      <th>4</th>\n",
              "      <td>0</td>\n",
              "    </tr>\n",
              "  </tbody>\n",
              "</table>\n",
              "</div>"
            ],
            "text/plain": [
              "   0\n",
              "0  1\n",
              "1  0\n",
              "2 -1\n",
              "3 -1\n",
              "4  0"
            ]
          },
          "execution_count": 44,
          "metadata": {
            "tags": []
          },
          "output_type": "execute_result"
        }
      ],
      "source": [
        "# extract labels file\n",
        "# labels = spio.loadmat(\"label.mat\")\n",
        "# labels_df = pd.DataFrame(np.hstack(labels[\"label\"]))\n",
        "# labels_df.head()"
      ]
    },
    {
      "cell_type": "code",
      "execution_count": 31,
      "metadata": {},
      "outputs": [
        {
          "data": {
            "text/html": [
              "<div>\n",
              "<style scoped>\n",
              "    .dataframe tbody tr th:only-of-type {\n",
              "        vertical-align: middle;\n",
              "    }\n",
              "\n",
              "    .dataframe tbody tr th {\n",
              "        vertical-align: top;\n",
              "    }\n",
              "\n",
              "    .dataframe thead th {\n",
              "        text-align: right;\n",
              "    }\n",
              "</style>\n",
              "<table border=\"1\" class=\"dataframe\">\n",
              "  <thead>\n",
              "    <tr style=\"text-align: right;\">\n",
              "      <th></th>\n",
              "      <th>label</th>\n",
              "    </tr>\n",
              "  </thead>\n",
              "  <tbody>\n",
              "    <tr>\n",
              "      <th>0</th>\n",
              "      <td>1</td>\n",
              "    </tr>\n",
              "    <tr>\n",
              "      <th>1</th>\n",
              "      <td>2</td>\n",
              "    </tr>\n",
              "    <tr>\n",
              "      <th>2</th>\n",
              "      <td>3</td>\n",
              "    </tr>\n",
              "    <tr>\n",
              "      <th>3</th>\n",
              "      <td>0</td>\n",
              "    </tr>\n",
              "    <tr>\n",
              "      <th>4</th>\n",
              "      <td>2</td>\n",
              "    </tr>\n",
              "    <tr>\n",
              "      <th>...</th>\n",
              "      <td>...</td>\n",
              "    </tr>\n",
              "    <tr>\n",
              "      <th>235</th>\n",
              "      <td>3</td>\n",
              "    </tr>\n",
              "    <tr>\n",
              "      <th>236</th>\n",
              "      <td>0</td>\n",
              "    </tr>\n",
              "    <tr>\n",
              "      <th>237</th>\n",
              "      <td>3</td>\n",
              "    </tr>\n",
              "    <tr>\n",
              "      <th>238</th>\n",
              "      <td>0</td>\n",
              "    </tr>\n",
              "    <tr>\n",
              "      <th>239</th>\n",
              "      <td>3</td>\n",
              "    </tr>\n",
              "  </tbody>\n",
              "</table>\n",
              "<p>240 rows × 1 columns</p>\n",
              "</div>"
            ],
            "text/plain": [
              "     label\n",
              "0        1\n",
              "1        2\n",
              "2        3\n",
              "3        0\n",
              "4        2\n",
              "..     ...\n",
              "235      3\n",
              "236      0\n",
              "237      3\n",
              "238      0\n",
              "239      3\n",
              "\n",
              "[240 rows x 1 columns]"
            ]
          },
          "execution_count": 31,
          "metadata": {},
          "output_type": "execute_result"
        }
      ],
      "source": [
        "session1_label = [1,2,3,0,2,0,0,1,0,1,2,1,1,1,2,3,2,2,3,3,0,3,0,3]\n",
        "labels = session1_label * 10\n",
        "labels_df = pd.DataFrame(labels)\n",
        "labels_df.columns = ['label']\n",
        "labels_df"
      ]
    },
    {
      "cell_type": "code",
      "execution_count": null,
      "metadata": {},
      "outputs": [],
      "source": []
    },
    {
      "cell_type": "code",
      "execution_count": 6,
      "metadata": {
        "colab": {
          "base_uri": "https://localhost:8080/"
        },
        "id": "Ut2BbwkwPx8n",
        "outputId": "3381b2c6-30b8-4c09-b7d8-f69675646f0c"
      },
      "outputs": [
        {
          "data": {
            "text/plain": [
              "['4_20151111.mat',\n",
              " '9_20151028.mat',\n",
              " '8_20151103.mat',\n",
              " '10_20151014.mat',\n",
              " '2_20150915.mat',\n",
              " '11_20150916.mat',\n",
              " '7_20150715.mat',\n",
              " '6_20150507.mat',\n",
              " '15_20150508.mat',\n",
              " '12_20150725.mat']"
            ]
          },
          "execution_count": 6,
          "metadata": {},
          "output_type": "execute_result"
        }
      ],
      "source": [
        "# files = os.listdir(\"temp/Preprocessed_EEG/\")\n",
        "files = os.listdir(\"data/eeg_raw_data/1\")\n",
        "files"
      ]
    },
    {
      "attachments": {},
      "cell_type": "markdown",
      "metadata": {
        "id": "Ssmr7iiPdWvg"
      },
      "source": [
        "**Feature extraction**"
      ]
    },
    {
      "cell_type": "code",
      "execution_count": 7,
      "metadata": {
        "id": "Bnv8OiNcYV8S"
      },
      "outputs": [],
      "source": [
        "def calc_wavelet_energy(data_set):\n",
        "  \"\"\"\n",
        "    Input : 1 * N vector\n",
        "    Output: Float with the wavelet energy of the input vector,\n",
        "    rounded to 3 decimal places.\n",
        "  \"\"\"\n",
        "  # p_sqr = [i ** 2 for i in data_set]\n",
        "  wavelet_energy = np.nansum(np.log2(np.square(data_set)))\n",
        "  return round(wavelet_energy, 3)"
      ]
    },
    {
      "cell_type": "code",
      "execution_count": 8,
      "metadata": {
        "id": "McEczAds0hn5"
      },
      "outputs": [],
      "source": [
        "def calc_shannon_entropy(data_set):\n",
        "    \"\"\"\n",
        "        Input : 1 * N vector\n",
        "        Output: Float with the wavelet entropy of the input vector,\n",
        "                rounded to 3 decimal places.\n",
        "    \"\"\"\n",
        "    # probability = [i ** 2 for i in data_set]\n",
        "    probability = np.square(data_set)\n",
        "    shannon_entropy = -np.nansum(probability * np.log2(probability))\n",
        "    return round(shannon_entropy, 3)"
      ]
    },
    {
      "cell_type": "code",
      "execution_count": 19,
      "metadata": {},
      "outputs": [
        {
          "data": {
            "text/plain": [
              "10"
            ]
          },
          "execution_count": 19,
          "metadata": {},
          "output_type": "execute_result"
        }
      ],
      "source": [
        "len(files)"
      ]
    },
    {
      "cell_type": "code",
      "execution_count": 20,
      "metadata": {
        "id": "AWNg43Z3XXwP"
      },
      "outputs": [
        {
          "name": "stdout",
          "output_type": "stream",
          "text": [
            "4_20151111.mat\n",
            "9_20151028.mat\n",
            "8_20151103.mat\n",
            "10_20151014.mat\n",
            "2_20150915.mat\n",
            "11_20150916.mat\n",
            "7_20150715.mat\n",
            "6_20150507.mat\n",
            "15_20150508.mat\n",
            "12_20150725.mat\n"
          ]
        }
      ],
      "source": [
        "participant_trial = []\n",
        "features_table = pd.DataFrame(columns=range(620))\n",
        "for file in files:\n",
        "  # mat_file = spio.loadmat(\"temp/Preprocessed_EEG/\" + file)\n",
        "  mat_file = spio.loadmat(\"data/eeg_raw_data/1/\" + file)\n",
        "  keys = [key for key, values in mat_file.items() if key != '__header__' and key != '__version__' and key != '__globals__' ]\n",
        "  for data_file in keys:\n",
        "    data_df = pd.DataFrame(mat_file[data_file])\n",
        "    # print(data_df)\n",
        "    M = data_df.shape[0]\n",
        "    N = data_df.shape[1]\n",
        "    # Feature extraction part of the module\n",
        "    Entropy = []\n",
        "    Energy = []\n",
        "    for channel in data_df.iterrows():  # Iterating through the 62 channels\n",
        "      dwt_bands = []\n",
        "      data = channel[1]\n",
        "      int_ent = []\n",
        "      int_eng = []\n",
        "      for band in range(MAX_LEVEL):\n",
        "        (data, coeff_d) = pywt.dwt(data, WAVELET)\n",
        "        dwt_bands.append(coeff_d)\n",
        "      \n",
        "      for band in range(len(dwt_bands)):  # DWT_bands = 23504, 11755\n",
        "        int_ent.append(calc_shannon_entropy(dwt_bands[len(dwt_bands) - band - 1]))\n",
        "        int_eng.append(calc_wavelet_energy(dwt_bands[len(dwt_bands) - band - 1]))\n",
        "      \n",
        "      Entropy.append(int_ent)\n",
        "      Energy.append(int_eng)\n",
        "    \n",
        "    unroll_entropy = []\n",
        "    unroll_energy = []\n",
        "    '''\n",
        "        Transforming 2D array into 1D vector of features and then \n",
        "        combining the two 1D arrays.\n",
        "    '''\n",
        "    for i in range(len(Entropy)):\n",
        "      for j in range(len(Entropy[0])):\n",
        "        unroll_entropy.append(Entropy[i][j])\n",
        "        unroll_energy.append(Energy[i][j])\n",
        "\n",
        "    features = unroll_entropy + unroll_energy\n",
        "    participant_trial.append(features)\n",
        "    features_table.loc[len(features_table.index)] = features\n",
        "    # print(data_file)\n",
        "    # print(features)\n",
        "  print(file)\n"
      ]
    },
    {
      "cell_type": "code",
      "execution_count": 18,
      "metadata": {},
      "outputs": [
        {
          "data": {
            "text/plain": [
              "(24, 620)"
            ]
          },
          "execution_count": 18,
          "metadata": {},
          "output_type": "execute_result"
        }
      ],
      "source": [
        "features_table.shape"
      ]
    },
    {
      "cell_type": "code",
      "execution_count": 10,
      "metadata": {},
      "outputs": [
        {
          "data": {
            "text/plain": [
              "'data/eeg_raw_data/1'"
            ]
          },
          "execution_count": 10,
          "metadata": {},
          "output_type": "execute_result"
        }
      ],
      "source": [
        "dir"
      ]
    },
    {
      "cell_type": "code",
      "execution_count": 11,
      "metadata": {
        "id": "LlIb4wqid8TX"
      },
      "outputs": [],
      "source": [
        "file_dir = dir + \"/temp/analysis/\"\n",
        "# file_dir = \"outputs/\""
      ]
    },
    {
      "cell_type": "code",
      "execution_count": 13,
      "metadata": {
        "id": "L3mY47GX-tgW"
      },
      "outputs": [],
      "source": [
        "features_table.to_csv(file_dir + \"features\" + WAVELET + \".csv\", index=False)"
      ]
    },
    {
      "cell_type": "code",
      "execution_count": 15,
      "metadata": {},
      "outputs": [
        {
          "data": {
            "text/html": [
              "<div>\n",
              "<style scoped>\n",
              "    .dataframe tbody tr th:only-of-type {\n",
              "        vertical-align: middle;\n",
              "    }\n",
              "\n",
              "    .dataframe tbody tr th {\n",
              "        vertical-align: top;\n",
              "    }\n",
              "\n",
              "    .dataframe thead th {\n",
              "        text-align: right;\n",
              "    }\n",
              "</style>\n",
              "<table border=\"1\" class=\"dataframe\">\n",
              "  <thead>\n",
              "    <tr style=\"text-align: right;\">\n",
              "      <th></th>\n",
              "      <th>0</th>\n",
              "      <th>1</th>\n",
              "      <th>2</th>\n",
              "      <th>3</th>\n",
              "      <th>4</th>\n",
              "      <th>5</th>\n",
              "      <th>6</th>\n",
              "      <th>7</th>\n",
              "      <th>8</th>\n",
              "      <th>9</th>\n",
              "      <th>...</th>\n",
              "      <th>610</th>\n",
              "      <th>611</th>\n",
              "      <th>612</th>\n",
              "      <th>613</th>\n",
              "      <th>614</th>\n",
              "      <th>615</th>\n",
              "      <th>616</th>\n",
              "      <th>617</th>\n",
              "      <th>618</th>\n",
              "      <th>619</th>\n",
              "    </tr>\n",
              "  </thead>\n",
              "  <tbody>\n",
              "    <tr>\n",
              "      <th>0</th>\n",
              "      <td>-6.397465e+07</td>\n",
              "      <td>-1.809499e+07</td>\n",
              "      <td>-1.349846e+07</td>\n",
              "      <td>-2.240124e+07</td>\n",
              "      <td>-2.238405e+07</td>\n",
              "      <td>-6.762535e+07</td>\n",
              "      <td>-1.862762e+07</td>\n",
              "      <td>-1.120563e+07</td>\n",
              "      <td>-1.472245e+07</td>\n",
              "      <td>-1.736788e+07</td>\n",
              "      <td>...</td>\n",
              "      <td>7008.546</td>\n",
              "      <td>11507.271</td>\n",
              "      <td>18140.951</td>\n",
              "      <td>28128.404</td>\n",
              "      <td>48368.756</td>\n",
              "      <td>7040.383</td>\n",
              "      <td>11533.766</td>\n",
              "      <td>17855.794</td>\n",
              "      <td>27906.063</td>\n",
              "      <td>47703.254</td>\n",
              "    </tr>\n",
              "    <tr>\n",
              "      <th>1</th>\n",
              "      <td>-3.579158e+07</td>\n",
              "      <td>-7.784747e+06</td>\n",
              "      <td>-8.271466e+06</td>\n",
              "      <td>-1.383696e+07</td>\n",
              "      <td>-1.379331e+07</td>\n",
              "      <td>-2.991930e+07</td>\n",
              "      <td>-8.139283e+06</td>\n",
              "      <td>-6.296407e+06</td>\n",
              "      <td>-1.020927e+07</td>\n",
              "      <td>-9.714509e+06</td>\n",
              "      <td>...</td>\n",
              "      <td>4036.810</td>\n",
              "      <td>6342.075</td>\n",
              "      <td>10478.842</td>\n",
              "      <td>17803.473</td>\n",
              "      <td>30390.247</td>\n",
              "      <td>4016.292</td>\n",
              "      <td>6364.069</td>\n",
              "      <td>10436.333</td>\n",
              "      <td>17593.498</td>\n",
              "      <td>30016.484</td>\n",
              "    </tr>\n",
              "    <tr>\n",
              "      <th>2</th>\n",
              "      <td>-8.057379e+07</td>\n",
              "      <td>-2.326097e+07</td>\n",
              "      <td>-1.650747e+07</td>\n",
              "      <td>-2.189106e+07</td>\n",
              "      <td>-1.931341e+07</td>\n",
              "      <td>-8.888204e+07</td>\n",
              "      <td>-2.397894e+07</td>\n",
              "      <td>-1.224032e+07</td>\n",
              "      <td>-1.525026e+07</td>\n",
              "      <td>-1.413346e+07</td>\n",
              "      <td>...</td>\n",
              "      <td>8393.314</td>\n",
              "      <td>13902.817</td>\n",
              "      <td>23362.412</td>\n",
              "      <td>40077.574</td>\n",
              "      <td>69262.408</td>\n",
              "      <td>8365.401</td>\n",
              "      <td>13865.910</td>\n",
              "      <td>23159.602</td>\n",
              "      <td>39701.311</td>\n",
              "      <td>68417.309</td>\n",
              "    </tr>\n",
              "    <tr>\n",
              "      <th>3</th>\n",
              "      <td>-6.060795e+07</td>\n",
              "      <td>-1.664013e+07</td>\n",
              "      <td>-1.068261e+07</td>\n",
              "      <td>-1.534785e+07</td>\n",
              "      <td>-1.422628e+07</td>\n",
              "      <td>-6.941004e+07</td>\n",
              "      <td>-1.754174e+07</td>\n",
              "      <td>-1.070563e+07</td>\n",
              "      <td>-1.483194e+07</td>\n",
              "      <td>-1.301140e+07</td>\n",
              "      <td>...</td>\n",
              "      <td>5455.819</td>\n",
              "      <td>9183.598</td>\n",
              "      <td>13465.981</td>\n",
              "      <td>20463.425</td>\n",
              "      <td>33391.519</td>\n",
              "      <td>5493.282</td>\n",
              "      <td>9218.534</td>\n",
              "      <td>13319.612</td>\n",
              "      <td>20113.996</td>\n",
              "      <td>32496.450</td>\n",
              "    </tr>\n",
              "    <tr>\n",
              "      <th>4</th>\n",
              "      <td>-1.468210e+08</td>\n",
              "      <td>-3.603430e+07</td>\n",
              "      <td>-1.243433e+07</td>\n",
              "      <td>-2.350835e+07</td>\n",
              "      <td>-2.058379e+07</td>\n",
              "      <td>-1.569445e+08</td>\n",
              "      <td>-3.840053e+07</td>\n",
              "      <td>-9.859054e+06</td>\n",
              "      <td>-1.756487e+07</td>\n",
              "      <td>-1.200812e+07</td>\n",
              "      <td>...</td>\n",
              "      <td>3688.100</td>\n",
              "      <td>6142.809</td>\n",
              "      <td>9545.184</td>\n",
              "      <td>16689.145</td>\n",
              "      <td>28243.480</td>\n",
              "      <td>3717.690</td>\n",
              "      <td>6168.680</td>\n",
              "      <td>9403.942</td>\n",
              "      <td>16447.350</td>\n",
              "      <td>27864.277</td>\n",
              "    </tr>\n",
              "  </tbody>\n",
              "</table>\n",
              "<p>5 rows × 620 columns</p>\n",
              "</div>"
            ],
            "text/plain": [
              "            0             1             2             3             4    \\\n",
              "0 -6.397465e+07 -1.809499e+07 -1.349846e+07 -2.240124e+07 -2.238405e+07   \n",
              "1 -3.579158e+07 -7.784747e+06 -8.271466e+06 -1.383696e+07 -1.379331e+07   \n",
              "2 -8.057379e+07 -2.326097e+07 -1.650747e+07 -2.189106e+07 -1.931341e+07   \n",
              "3 -6.060795e+07 -1.664013e+07 -1.068261e+07 -1.534785e+07 -1.422628e+07   \n",
              "4 -1.468210e+08 -3.603430e+07 -1.243433e+07 -2.350835e+07 -2.058379e+07   \n",
              "\n",
              "            5             6             7             8             9    ...  \\\n",
              "0 -6.762535e+07 -1.862762e+07 -1.120563e+07 -1.472245e+07 -1.736788e+07  ...   \n",
              "1 -2.991930e+07 -8.139283e+06 -6.296407e+06 -1.020927e+07 -9.714509e+06  ...   \n",
              "2 -8.888204e+07 -2.397894e+07 -1.224032e+07 -1.525026e+07 -1.413346e+07  ...   \n",
              "3 -6.941004e+07 -1.754174e+07 -1.070563e+07 -1.483194e+07 -1.301140e+07  ...   \n",
              "4 -1.569445e+08 -3.840053e+07 -9.859054e+06 -1.756487e+07 -1.200812e+07  ...   \n",
              "\n",
              "        610        611        612        613        614       615        616  \\\n",
              "0  7008.546  11507.271  18140.951  28128.404  48368.756  7040.383  11533.766   \n",
              "1  4036.810   6342.075  10478.842  17803.473  30390.247  4016.292   6364.069   \n",
              "2  8393.314  13902.817  23362.412  40077.574  69262.408  8365.401  13865.910   \n",
              "3  5455.819   9183.598  13465.981  20463.425  33391.519  5493.282   9218.534   \n",
              "4  3688.100   6142.809   9545.184  16689.145  28243.480  3717.690   6168.680   \n",
              "\n",
              "         617        618        619  \n",
              "0  17855.794  27906.063  47703.254  \n",
              "1  10436.333  17593.498  30016.484  \n",
              "2  23159.602  39701.311  68417.309  \n",
              "3  13319.612  20113.996  32496.450  \n",
              "4   9403.942  16447.350  27864.277  \n",
              "\n",
              "[5 rows x 620 columns]"
            ]
          },
          "execution_count": 15,
          "metadata": {},
          "output_type": "execute_result"
        }
      ],
      "source": [
        "features_table.head(5)"
      ]
    },
    {
      "attachments": {},
      "cell_type": "markdown",
      "metadata": {
        "id": "JreZ9rFodcEn"
      },
      "source": [
        "**Principal Components Analysis**"
      ]
    },
    {
      "cell_type": "code",
      "execution_count": 21,
      "metadata": {
        "id": "w32UIkImbd1o"
      },
      "outputs": [],
      "source": [
        "data = pd.read_csv(file_dir + \"features\" + WAVELET + \".csv\")"
      ]
    },
    {
      "cell_type": "code",
      "execution_count": 22,
      "metadata": {},
      "outputs": [
        {
          "data": {
            "text/plain": [
              "(240, 620)"
            ]
          },
          "execution_count": 22,
          "metadata": {},
          "output_type": "execute_result"
        }
      ],
      "source": [
        "data.shape"
      ]
    },
    {
      "cell_type": "code",
      "execution_count": 23,
      "metadata": {
        "colab": {
          "base_uri": "https://localhost:8080/",
          "height": 255
        },
        "id": "h10DXrmcezSJ",
        "outputId": "7584a4dd-778d-4a39-9936-c88249b73923"
      },
      "outputs": [
        {
          "data": {
            "text/html": [
              "<div>\n",
              "<style scoped>\n",
              "    .dataframe tbody tr th:only-of-type {\n",
              "        vertical-align: middle;\n",
              "    }\n",
              "\n",
              "    .dataframe tbody tr th {\n",
              "        vertical-align: top;\n",
              "    }\n",
              "\n",
              "    .dataframe thead th {\n",
              "        text-align: right;\n",
              "    }\n",
              "</style>\n",
              "<table border=\"1\" class=\"dataframe\">\n",
              "  <thead>\n",
              "    <tr style=\"text-align: right;\">\n",
              "      <th></th>\n",
              "      <th>0</th>\n",
              "      <th>1</th>\n",
              "      <th>2</th>\n",
              "      <th>3</th>\n",
              "      <th>4</th>\n",
              "      <th>5</th>\n",
              "      <th>6</th>\n",
              "      <th>7</th>\n",
              "      <th>8</th>\n",
              "      <th>9</th>\n",
              "      <th>...</th>\n",
              "      <th>610</th>\n",
              "      <th>611</th>\n",
              "      <th>612</th>\n",
              "      <th>613</th>\n",
              "      <th>614</th>\n",
              "      <th>615</th>\n",
              "      <th>616</th>\n",
              "      <th>617</th>\n",
              "      <th>618</th>\n",
              "      <th>619</th>\n",
              "    </tr>\n",
              "  </thead>\n",
              "  <tbody>\n",
              "    <tr>\n",
              "      <th>0</th>\n",
              "      <td>1.132079</td>\n",
              "      <td>0.834258</td>\n",
              "      <td>-0.568735</td>\n",
              "      <td>-0.279137</td>\n",
              "      <td>0.232388</td>\n",
              "      <td>0.130625</td>\n",
              "      <td>0.200517</td>\n",
              "      <td>0.073107</td>\n",
              "      <td>-0.087576</td>\n",
              "      <td>0.025902</td>\n",
              "      <td>...</td>\n",
              "      <td>0.000079</td>\n",
              "      <td>-0.000414</td>\n",
              "      <td>-0.000064</td>\n",
              "      <td>-0.000187</td>\n",
              "      <td>0.000036</td>\n",
              "      <td>0.000092</td>\n",
              "      <td>-0.000125</td>\n",
              "      <td>-0.000289</td>\n",
              "      <td>-0.000121</td>\n",
              "      <td>0.000163</td>\n",
              "    </tr>\n",
              "    <tr>\n",
              "      <th>1</th>\n",
              "      <td>0.671489</td>\n",
              "      <td>0.491039</td>\n",
              "      <td>-0.269750</td>\n",
              "      <td>-0.180885</td>\n",
              "      <td>0.112637</td>\n",
              "      <td>0.047381</td>\n",
              "      <td>0.094276</td>\n",
              "      <td>0.039127</td>\n",
              "      <td>-0.032007</td>\n",
              "      <td>0.009261</td>\n",
              "      <td>...</td>\n",
              "      <td>0.000079</td>\n",
              "      <td>-0.000414</td>\n",
              "      <td>-0.000064</td>\n",
              "      <td>-0.000187</td>\n",
              "      <td>0.000036</td>\n",
              "      <td>0.000092</td>\n",
              "      <td>-0.000125</td>\n",
              "      <td>-0.000289</td>\n",
              "      <td>-0.000121</td>\n",
              "      <td>0.000163</td>\n",
              "    </tr>\n",
              "    <tr>\n",
              "      <th>2</th>\n",
              "      <td>1.447622</td>\n",
              "      <td>1.044359</td>\n",
              "      <td>-0.591106</td>\n",
              "      <td>-0.392303</td>\n",
              "      <td>0.255709</td>\n",
              "      <td>0.164169</td>\n",
              "      <td>0.221489</td>\n",
              "      <td>0.060476</td>\n",
              "      <td>-0.096166</td>\n",
              "      <td>0.019840</td>\n",
              "      <td>...</td>\n",
              "      <td>0.000079</td>\n",
              "      <td>-0.000414</td>\n",
              "      <td>-0.000064</td>\n",
              "      <td>-0.000187</td>\n",
              "      <td>0.000036</td>\n",
              "      <td>0.000092</td>\n",
              "      <td>-0.000125</td>\n",
              "      <td>-0.000289</td>\n",
              "      <td>-0.000121</td>\n",
              "      <td>0.000163</td>\n",
              "    </tr>\n",
              "    <tr>\n",
              "      <th>3</th>\n",
              "      <td>0.852206</td>\n",
              "      <td>0.696203</td>\n",
              "      <td>-0.484486</td>\n",
              "      <td>-0.162725</td>\n",
              "      <td>0.168144</td>\n",
              "      <td>0.085740</td>\n",
              "      <td>0.145414</td>\n",
              "      <td>0.072946</td>\n",
              "      <td>-0.052177</td>\n",
              "      <td>0.019550</td>\n",
              "      <td>...</td>\n",
              "      <td>0.000079</td>\n",
              "      <td>-0.000414</td>\n",
              "      <td>-0.000064</td>\n",
              "      <td>-0.000187</td>\n",
              "      <td>0.000036</td>\n",
              "      <td>0.000092</td>\n",
              "      <td>-0.000125</td>\n",
              "      <td>-0.000289</td>\n",
              "      <td>-0.000121</td>\n",
              "      <td>0.000163</td>\n",
              "    </tr>\n",
              "    <tr>\n",
              "      <th>4</th>\n",
              "      <td>0.731689</td>\n",
              "      <td>0.545708</td>\n",
              "      <td>-0.263686</td>\n",
              "      <td>-0.146944</td>\n",
              "      <td>0.104475</td>\n",
              "      <td>0.122076</td>\n",
              "      <td>0.036840</td>\n",
              "      <td>0.006239</td>\n",
              "      <td>-0.033168</td>\n",
              "      <td>0.034390</td>\n",
              "      <td>...</td>\n",
              "      <td>0.000079</td>\n",
              "      <td>-0.000414</td>\n",
              "      <td>-0.000064</td>\n",
              "      <td>-0.000187</td>\n",
              "      <td>0.000036</td>\n",
              "      <td>0.000092</td>\n",
              "      <td>-0.000125</td>\n",
              "      <td>-0.000289</td>\n",
              "      <td>-0.000121</td>\n",
              "      <td>0.000163</td>\n",
              "    </tr>\n",
              "  </tbody>\n",
              "</table>\n",
              "<p>5 rows × 620 columns</p>\n",
              "</div>"
            ],
            "text/plain": [
              "        0         1         2         3         4         5         6    \\\n",
              "0  1.132079  0.834258 -0.568735 -0.279137  0.232388  0.130625  0.200517   \n",
              "1  0.671489  0.491039 -0.269750 -0.180885  0.112637  0.047381  0.094276   \n",
              "2  1.447622  1.044359 -0.591106 -0.392303  0.255709  0.164169  0.221489   \n",
              "3  0.852206  0.696203 -0.484486 -0.162725  0.168144  0.085740  0.145414   \n",
              "4  0.731689  0.545708 -0.263686 -0.146944  0.104475  0.122076  0.036840   \n",
              "\n",
              "        7         8         9    ...       610       611       612       613  \\\n",
              "0  0.073107 -0.087576  0.025902  ...  0.000079 -0.000414 -0.000064 -0.000187   \n",
              "1  0.039127 -0.032007  0.009261  ...  0.000079 -0.000414 -0.000064 -0.000187   \n",
              "2  0.060476 -0.096166  0.019840  ...  0.000079 -0.000414 -0.000064 -0.000187   \n",
              "3  0.072946 -0.052177  0.019550  ...  0.000079 -0.000414 -0.000064 -0.000187   \n",
              "4  0.006239 -0.033168  0.034390  ...  0.000079 -0.000414 -0.000064 -0.000187   \n",
              "\n",
              "        614       615       616       617       618       619  \n",
              "0  0.000036  0.000092 -0.000125 -0.000289 -0.000121  0.000163  \n",
              "1  0.000036  0.000092 -0.000125 -0.000289 -0.000121  0.000163  \n",
              "2  0.000036  0.000092 -0.000125 -0.000289 -0.000121  0.000163  \n",
              "3  0.000036  0.000092 -0.000125 -0.000289 -0.000121  0.000163  \n",
              "4  0.000036  0.000092 -0.000125 -0.000289 -0.000121  0.000163  \n",
              "\n",
              "[5 rows x 620 columns]"
            ]
          },
          "execution_count": 23,
          "metadata": {},
          "output_type": "execute_result"
        }
      ],
      "source": [
        "# 1. Normalising data and getting transpose\n",
        "normalised = pd.DataFrame(normalize(data, axis = 0))\n",
        "\n",
        "# 2. Finding covariance matrix\n",
        "covariance_df = normalised.cov()\n",
        "\n",
        "# 3. Eigen Vectors\n",
        "u, s, v = np.linalg.svd(covariance_df)\n",
        "\n",
        "# 4. Principal Components\n",
        "data_reduced = normalised @ u\n",
        "data_reduced.head()"
      ]
    },
    {
      "cell_type": "code",
      "execution_count": 25,
      "metadata": {},
      "outputs": [
        {
          "data": {
            "text/plain": [
              "(240, 620)"
            ]
          },
          "execution_count": 25,
          "metadata": {},
          "output_type": "execute_result"
        }
      ],
      "source": [
        "data_reduced.shape"
      ]
    },
    {
      "cell_type": "code",
      "execution_count": 26,
      "metadata": {
        "id": "OMO99_hsi5RI"
      },
      "outputs": [],
      "source": [
        "data_reduced.to_csv(file_dir + \"pc\" + WAVELET + \".csv\", index=False)"
      ]
    },
    {
      "cell_type": "code",
      "execution_count": 27,
      "metadata": {
        "colab": {
          "base_uri": "https://localhost:8080/",
          "height": 36
        },
        "id": "k0PvmvQcoa_O",
        "outputId": "d1802b76-8e06-4c24-8264-ad876aaf3880"
      },
      "outputs": [
        {
          "data": {
            "text/plain": [
              "'data/eeg_raw_data/1/temp/analysis/'"
            ]
          },
          "execution_count": 27,
          "metadata": {},
          "output_type": "execute_result"
        }
      ],
      "source": [
        "file_dir"
      ]
    },
    {
      "attachments": {},
      "cell_type": "markdown",
      "metadata": {
        "id": "ZFm_Yb9JkjUZ"
      },
      "source": [
        "**Running data through classifiers**\n",
        "\n",
        "\n",
        "1.   SVM\n",
        "\n"
      ]
    },
    {
      "cell_type": "code",
      "execution_count": 32,
      "metadata": {
        "id": "6CZIMZlvj4BQ"
      },
      "outputs": [],
      "source": [
        "# Reading data and splitting \n",
        "pcs = pd.read_csv(file_dir + \"pc\" + WAVELET + \".csv\")\n",
        "# outputs = pd.read_csv(file_dir + \"outputs_main.csv\", header=None)\n",
        "outputs = labels_df\n",
        "\n",
        "X = pcs.iloc[:, :].values\n",
        "Y = outputs.iloc[:, :].values\n",
        "\n",
        "X_train, X_test, Y_train, Y_test = train_test_split(X, Y, test_size = 0.2, random_state=42)"
      ]
    },
    {
      "cell_type": "code",
      "execution_count": 33,
      "metadata": {},
      "outputs": [
        {
          "name": "stdout",
          "output_type": "stream",
          "text": [
            "(192, 620) (48, 620)\n",
            "(192, 1) (48, 1)\n"
          ]
        }
      ],
      "source": [
        "print(X_train.shape, X_test.shape)\n",
        "print(Y_train.shape, Y_test.shape)\n"
      ]
    },
    {
      "cell_type": "code",
      "execution_count": 34,
      "metadata": {
        "colab": {
          "base_uri": "https://localhost:8080/"
        },
        "id": "uJRxucIelgU1",
        "outputId": "afc64dae-55c2-45ba-9105-6deadcd14333"
      },
      "outputs": [
        {
          "name": "stderr",
          "output_type": "stream",
          "text": [
            "/opt/anaconda3/envs/emo/lib/python3.9/site-packages/sklearn/utils/validation.py:1184: DataConversionWarning: A column-vector y was passed when a 1d array was expected. Please change the shape of y to (n_samples, ), for example using ravel().\n",
            "  y = column_or_1d(y, warn=True)\n",
            "/opt/anaconda3/envs/emo/lib/python3.9/site-packages/sklearn/utils/validation.py:1184: DataConversionWarning: A column-vector y was passed when a 1d array was expected. Please change the shape of y to (n_samples, ), for example using ravel().\n",
            "  y = column_or_1d(y, warn=True)\n",
            "/opt/anaconda3/envs/emo/lib/python3.9/site-packages/sklearn/utils/validation.py:1184: DataConversionWarning: A column-vector y was passed when a 1d array was expected. Please change the shape of y to (n_samples, ), for example using ravel().\n",
            "  y = column_or_1d(y, warn=True)\n",
            "/opt/anaconda3/envs/emo/lib/python3.9/site-packages/sklearn/utils/validation.py:1184: DataConversionWarning: A column-vector y was passed when a 1d array was expected. Please change the shape of y to (n_samples, ), for example using ravel().\n",
            "  y = column_or_1d(y, warn=True)\n",
            "/opt/anaconda3/envs/emo/lib/python3.9/site-packages/sklearn/utils/validation.py:1184: DataConversionWarning: A column-vector y was passed when a 1d array was expected. Please change the shape of y to (n_samples, ), for example using ravel().\n",
            "  y = column_or_1d(y, warn=True)\n",
            "/opt/anaconda3/envs/emo/lib/python3.9/site-packages/sklearn/utils/validation.py:1184: DataConversionWarning: A column-vector y was passed when a 1d array was expected. Please change the shape of y to (n_samples, ), for example using ravel().\n",
            "  y = column_or_1d(y, warn=True)\n",
            "/opt/anaconda3/envs/emo/lib/python3.9/site-packages/sklearn/utils/validation.py:1184: DataConversionWarning: A column-vector y was passed when a 1d array was expected. Please change the shape of y to (n_samples, ), for example using ravel().\n",
            "  y = column_or_1d(y, warn=True)\n",
            "/opt/anaconda3/envs/emo/lib/python3.9/site-packages/sklearn/utils/validation.py:1184: DataConversionWarning: A column-vector y was passed when a 1d array was expected. Please change the shape of y to (n_samples, ), for example using ravel().\n",
            "  y = column_or_1d(y, warn=True)\n",
            "/opt/anaconda3/envs/emo/lib/python3.9/site-packages/sklearn/utils/validation.py:1184: DataConversionWarning: A column-vector y was passed when a 1d array was expected. Please change the shape of y to (n_samples, ), for example using ravel().\n",
            "  y = column_or_1d(y, warn=True)\n",
            "/opt/anaconda3/envs/emo/lib/python3.9/site-packages/sklearn/utils/validation.py:1184: DataConversionWarning: A column-vector y was passed when a 1d array was expected. Please change the shape of y to (n_samples, ), for example using ravel().\n",
            "  y = column_or_1d(y, warn=True)\n",
            "/opt/anaconda3/envs/emo/lib/python3.9/site-packages/sklearn/utils/validation.py:1184: DataConversionWarning: A column-vector y was passed when a 1d array was expected. Please change the shape of y to (n_samples, ), for example using ravel().\n",
            "  y = column_or_1d(y, warn=True)\n",
            "/opt/anaconda3/envs/emo/lib/python3.9/site-packages/sklearn/utils/validation.py:1184: DataConversionWarning: A column-vector y was passed when a 1d array was expected. Please change the shape of y to (n_samples, ), for example using ravel().\n",
            "  y = column_or_1d(y, warn=True)\n",
            "/opt/anaconda3/envs/emo/lib/python3.9/site-packages/sklearn/utils/validation.py:1184: DataConversionWarning: A column-vector y was passed when a 1d array was expected. Please change the shape of y to (n_samples, ), for example using ravel().\n",
            "  y = column_or_1d(y, warn=True)\n",
            "/opt/anaconda3/envs/emo/lib/python3.9/site-packages/sklearn/utils/validation.py:1184: DataConversionWarning: A column-vector y was passed when a 1d array was expected. Please change the shape of y to (n_samples, ), for example using ravel().\n",
            "  y = column_or_1d(y, warn=True)\n",
            "/opt/anaconda3/envs/emo/lib/python3.9/site-packages/sklearn/utils/validation.py:1184: DataConversionWarning: A column-vector y was passed when a 1d array was expected. Please change the shape of y to (n_samples, ), for example using ravel().\n",
            "  y = column_or_1d(y, warn=True)\n",
            "/opt/anaconda3/envs/emo/lib/python3.9/site-packages/sklearn/utils/validation.py:1184: DataConversionWarning: A column-vector y was passed when a 1d array was expected. Please change the shape of y to (n_samples, ), for example using ravel().\n",
            "  y = column_or_1d(y, warn=True)\n",
            "/opt/anaconda3/envs/emo/lib/python3.9/site-packages/sklearn/utils/validation.py:1184: DataConversionWarning: A column-vector y was passed when a 1d array was expected. Please change the shape of y to (n_samples, ), for example using ravel().\n",
            "  y = column_or_1d(y, warn=True)\n",
            "/opt/anaconda3/envs/emo/lib/python3.9/site-packages/sklearn/utils/validation.py:1184: DataConversionWarning: A column-vector y was passed when a 1d array was expected. Please change the shape of y to (n_samples, ), for example using ravel().\n",
            "  y = column_or_1d(y, warn=True)\n",
            "/opt/anaconda3/envs/emo/lib/python3.9/site-packages/sklearn/utils/validation.py:1184: DataConversionWarning: A column-vector y was passed when a 1d array was expected. Please change the shape of y to (n_samples, ), for example using ravel().\n",
            "  y = column_or_1d(y, warn=True)\n",
            "/opt/anaconda3/envs/emo/lib/python3.9/site-packages/sklearn/utils/validation.py:1184: DataConversionWarning: A column-vector y was passed when a 1d array was expected. Please change the shape of y to (n_samples, ), for example using ravel().\n",
            "  y = column_or_1d(y, warn=True)\n",
            "/opt/anaconda3/envs/emo/lib/python3.9/site-packages/sklearn/utils/validation.py:1184: DataConversionWarning: A column-vector y was passed when a 1d array was expected. Please change the shape of y to (n_samples, ), for example using ravel().\n",
            "  y = column_or_1d(y, warn=True)\n",
            "/opt/anaconda3/envs/emo/lib/python3.9/site-packages/sklearn/utils/validation.py:1184: DataConversionWarning: A column-vector y was passed when a 1d array was expected. Please change the shape of y to (n_samples, ), for example using ravel().\n",
            "  y = column_or_1d(y, warn=True)\n",
            "/opt/anaconda3/envs/emo/lib/python3.9/site-packages/sklearn/utils/validation.py:1184: DataConversionWarning: A column-vector y was passed when a 1d array was expected. Please change the shape of y to (n_samples, ), for example using ravel().\n",
            "  y = column_or_1d(y, warn=True)\n",
            "/opt/anaconda3/envs/emo/lib/python3.9/site-packages/sklearn/utils/validation.py:1184: DataConversionWarning: A column-vector y was passed when a 1d array was expected. Please change the shape of y to (n_samples, ), for example using ravel().\n",
            "  y = column_or_1d(y, warn=True)\n",
            "/opt/anaconda3/envs/emo/lib/python3.9/site-packages/sklearn/utils/validation.py:1184: DataConversionWarning: A column-vector y was passed when a 1d array was expected. Please change the shape of y to (n_samples, ), for example using ravel().\n",
            "  y = column_or_1d(y, warn=True)\n",
            "/opt/anaconda3/envs/emo/lib/python3.9/site-packages/sklearn/utils/validation.py:1184: DataConversionWarning: A column-vector y was passed when a 1d array was expected. Please change the shape of y to (n_samples, ), for example using ravel().\n",
            "  y = column_or_1d(y, warn=True)\n",
            "/opt/anaconda3/envs/emo/lib/python3.9/site-packages/sklearn/utils/validation.py:1184: DataConversionWarning: A column-vector y was passed when a 1d array was expected. Please change the shape of y to (n_samples, ), for example using ravel().\n",
            "  y = column_or_1d(y, warn=True)\n",
            "/opt/anaconda3/envs/emo/lib/python3.9/site-packages/sklearn/utils/validation.py:1184: DataConversionWarning: A column-vector y was passed when a 1d array was expected. Please change the shape of y to (n_samples, ), for example using ravel().\n",
            "  y = column_or_1d(y, warn=True)\n",
            "/opt/anaconda3/envs/emo/lib/python3.9/site-packages/sklearn/utils/validation.py:1184: DataConversionWarning: A column-vector y was passed when a 1d array was expected. Please change the shape of y to (n_samples, ), for example using ravel().\n",
            "  y = column_or_1d(y, warn=True)\n",
            "/opt/anaconda3/envs/emo/lib/python3.9/site-packages/sklearn/utils/validation.py:1184: DataConversionWarning: A column-vector y was passed when a 1d array was expected. Please change the shape of y to (n_samples, ), for example using ravel().\n",
            "  y = column_or_1d(y, warn=True)\n",
            "/opt/anaconda3/envs/emo/lib/python3.9/site-packages/sklearn/utils/validation.py:1184: DataConversionWarning: A column-vector y was passed when a 1d array was expected. Please change the shape of y to (n_samples, ), for example using ravel().\n",
            "  y = column_or_1d(y, warn=True)\n",
            "/opt/anaconda3/envs/emo/lib/python3.9/site-packages/sklearn/utils/validation.py:1184: DataConversionWarning: A column-vector y was passed when a 1d array was expected. Please change the shape of y to (n_samples, ), for example using ravel().\n",
            "  y = column_or_1d(y, warn=True)\n",
            "/opt/anaconda3/envs/emo/lib/python3.9/site-packages/sklearn/utils/validation.py:1184: DataConversionWarning: A column-vector y was passed when a 1d array was expected. Please change the shape of y to (n_samples, ), for example using ravel().\n",
            "  y = column_or_1d(y, warn=True)\n",
            "/opt/anaconda3/envs/emo/lib/python3.9/site-packages/sklearn/utils/validation.py:1184: DataConversionWarning: A column-vector y was passed when a 1d array was expected. Please change the shape of y to (n_samples, ), for example using ravel().\n",
            "  y = column_or_1d(y, warn=True)\n",
            "/opt/anaconda3/envs/emo/lib/python3.9/site-packages/sklearn/utils/validation.py:1184: DataConversionWarning: A column-vector y was passed when a 1d array was expected. Please change the shape of y to (n_samples, ), for example using ravel().\n",
            "  y = column_or_1d(y, warn=True)\n",
            "/opt/anaconda3/envs/emo/lib/python3.9/site-packages/sklearn/utils/validation.py:1184: DataConversionWarning: A column-vector y was passed when a 1d array was expected. Please change the shape of y to (n_samples, ), for example using ravel().\n",
            "  y = column_or_1d(y, warn=True)\n",
            "/opt/anaconda3/envs/emo/lib/python3.9/site-packages/sklearn/utils/validation.py:1184: DataConversionWarning: A column-vector y was passed when a 1d array was expected. Please change the shape of y to (n_samples, ), for example using ravel().\n",
            "  y = column_or_1d(y, warn=True)\n",
            "/opt/anaconda3/envs/emo/lib/python3.9/site-packages/sklearn/utils/validation.py:1184: DataConversionWarning: A column-vector y was passed when a 1d array was expected. Please change the shape of y to (n_samples, ), for example using ravel().\n",
            "  y = column_or_1d(y, warn=True)\n",
            "/opt/anaconda3/envs/emo/lib/python3.9/site-packages/sklearn/utils/validation.py:1184: DataConversionWarning: A column-vector y was passed when a 1d array was expected. Please change the shape of y to (n_samples, ), for example using ravel().\n",
            "  y = column_or_1d(y, warn=True)\n",
            "/opt/anaconda3/envs/emo/lib/python3.9/site-packages/sklearn/utils/validation.py:1184: DataConversionWarning: A column-vector y was passed when a 1d array was expected. Please change the shape of y to (n_samples, ), for example using ravel().\n",
            "  y = column_or_1d(y, warn=True)\n",
            "/opt/anaconda3/envs/emo/lib/python3.9/site-packages/sklearn/utils/validation.py:1184: DataConversionWarning: A column-vector y was passed when a 1d array was expected. Please change the shape of y to (n_samples, ), for example using ravel().\n",
            "  y = column_or_1d(y, warn=True)\n",
            "/opt/anaconda3/envs/emo/lib/python3.9/site-packages/sklearn/utils/validation.py:1184: DataConversionWarning: A column-vector y was passed when a 1d array was expected. Please change the shape of y to (n_samples, ), for example using ravel().\n",
            "  y = column_or_1d(y, warn=True)\n",
            "/opt/anaconda3/envs/emo/lib/python3.9/site-packages/sklearn/utils/validation.py:1184: DataConversionWarning: A column-vector y was passed when a 1d array was expected. Please change the shape of y to (n_samples, ), for example using ravel().\n",
            "  y = column_or_1d(y, warn=True)\n",
            "/opt/anaconda3/envs/emo/lib/python3.9/site-packages/sklearn/utils/validation.py:1184: DataConversionWarning: A column-vector y was passed when a 1d array was expected. Please change the shape of y to (n_samples, ), for example using ravel().\n",
            "  y = column_or_1d(y, warn=True)\n",
            "/opt/anaconda3/envs/emo/lib/python3.9/site-packages/sklearn/utils/validation.py:1184: DataConversionWarning: A column-vector y was passed when a 1d array was expected. Please change the shape of y to (n_samples, ), for example using ravel().\n",
            "  y = column_or_1d(y, warn=True)\n",
            "/opt/anaconda3/envs/emo/lib/python3.9/site-packages/sklearn/utils/validation.py:1184: DataConversionWarning: A column-vector y was passed when a 1d array was expected. Please change the shape of y to (n_samples, ), for example using ravel().\n",
            "  y = column_or_1d(y, warn=True)\n",
            "/opt/anaconda3/envs/emo/lib/python3.9/site-packages/sklearn/utils/validation.py:1184: DataConversionWarning: A column-vector y was passed when a 1d array was expected. Please change the shape of y to (n_samples, ), for example using ravel().\n",
            "  y = column_or_1d(y, warn=True)\n",
            "/opt/anaconda3/envs/emo/lib/python3.9/site-packages/sklearn/utils/validation.py:1184: DataConversionWarning: A column-vector y was passed when a 1d array was expected. Please change the shape of y to (n_samples, ), for example using ravel().\n",
            "  y = column_or_1d(y, warn=True)\n",
            "/opt/anaconda3/envs/emo/lib/python3.9/site-packages/sklearn/utils/validation.py:1184: DataConversionWarning: A column-vector y was passed when a 1d array was expected. Please change the shape of y to (n_samples, ), for example using ravel().\n",
            "  y = column_or_1d(y, warn=True)\n",
            "/opt/anaconda3/envs/emo/lib/python3.9/site-packages/sklearn/utils/validation.py:1184: DataConversionWarning: A column-vector y was passed when a 1d array was expected. Please change the shape of y to (n_samples, ), for example using ravel().\n",
            "  y = column_or_1d(y, warn=True)\n",
            "/opt/anaconda3/envs/emo/lib/python3.9/site-packages/sklearn/utils/validation.py:1184: DataConversionWarning: A column-vector y was passed when a 1d array was expected. Please change the shape of y to (n_samples, ), for example using ravel().\n",
            "  y = column_or_1d(y, warn=True)\n",
            "/opt/anaconda3/envs/emo/lib/python3.9/site-packages/sklearn/utils/validation.py:1184: DataConversionWarning: A column-vector y was passed when a 1d array was expected. Please change the shape of y to (n_samples, ), for example using ravel().\n",
            "  y = column_or_1d(y, warn=True)\n",
            "/opt/anaconda3/envs/emo/lib/python3.9/site-packages/sklearn/utils/validation.py:1184: DataConversionWarning: A column-vector y was passed when a 1d array was expected. Please change the shape of y to (n_samples, ), for example using ravel().\n",
            "  y = column_or_1d(y, warn=True)\n",
            "/opt/anaconda3/envs/emo/lib/python3.9/site-packages/sklearn/utils/validation.py:1184: DataConversionWarning: A column-vector y was passed when a 1d array was expected. Please change the shape of y to (n_samples, ), for example using ravel().\n",
            "  y = column_or_1d(y, warn=True)\n",
            "/opt/anaconda3/envs/emo/lib/python3.9/site-packages/sklearn/utils/validation.py:1184: DataConversionWarning: A column-vector y was passed when a 1d array was expected. Please change the shape of y to (n_samples, ), for example using ravel().\n",
            "  y = column_or_1d(y, warn=True)\n",
            "/opt/anaconda3/envs/emo/lib/python3.9/site-packages/sklearn/utils/validation.py:1184: DataConversionWarning: A column-vector y was passed when a 1d array was expected. Please change the shape of y to (n_samples, ), for example using ravel().\n",
            "  y = column_or_1d(y, warn=True)\n",
            "/opt/anaconda3/envs/emo/lib/python3.9/site-packages/sklearn/utils/validation.py:1184: DataConversionWarning: A column-vector y was passed when a 1d array was expected. Please change the shape of y to (n_samples, ), for example using ravel().\n",
            "  y = column_or_1d(y, warn=True)\n",
            "/opt/anaconda3/envs/emo/lib/python3.9/site-packages/sklearn/utils/validation.py:1184: DataConversionWarning: A column-vector y was passed when a 1d array was expected. Please change the shape of y to (n_samples, ), for example using ravel().\n",
            "  y = column_or_1d(y, warn=True)\n",
            "/opt/anaconda3/envs/emo/lib/python3.9/site-packages/sklearn/utils/validation.py:1184: DataConversionWarning: A column-vector y was passed when a 1d array was expected. Please change the shape of y to (n_samples, ), for example using ravel().\n",
            "  y = column_or_1d(y, warn=True)\n",
            "/opt/anaconda3/envs/emo/lib/python3.9/site-packages/sklearn/utils/validation.py:1184: DataConversionWarning: A column-vector y was passed when a 1d array was expected. Please change the shape of y to (n_samples, ), for example using ravel().\n",
            "  y = column_or_1d(y, warn=True)\n",
            "/opt/anaconda3/envs/emo/lib/python3.9/site-packages/sklearn/utils/validation.py:1184: DataConversionWarning: A column-vector y was passed when a 1d array was expected. Please change the shape of y to (n_samples, ), for example using ravel().\n",
            "  y = column_or_1d(y, warn=True)\n",
            "/opt/anaconda3/envs/emo/lib/python3.9/site-packages/sklearn/utils/validation.py:1184: DataConversionWarning: A column-vector y was passed when a 1d array was expected. Please change the shape of y to (n_samples, ), for example using ravel().\n",
            "  y = column_or_1d(y, warn=True)\n",
            "/opt/anaconda3/envs/emo/lib/python3.9/site-packages/sklearn/utils/validation.py:1184: DataConversionWarning: A column-vector y was passed when a 1d array was expected. Please change the shape of y to (n_samples, ), for example using ravel().\n",
            "  y = column_or_1d(y, warn=True)\n",
            "/opt/anaconda3/envs/emo/lib/python3.9/site-packages/sklearn/utils/validation.py:1184: DataConversionWarning: A column-vector y was passed when a 1d array was expected. Please change the shape of y to (n_samples, ), for example using ravel().\n",
            "  y = column_or_1d(y, warn=True)\n",
            "/opt/anaconda3/envs/emo/lib/python3.9/site-packages/sklearn/utils/validation.py:1184: DataConversionWarning: A column-vector y was passed when a 1d array was expected. Please change the shape of y to (n_samples, ), for example using ravel().\n",
            "  y = column_or_1d(y, warn=True)\n",
            "/opt/anaconda3/envs/emo/lib/python3.9/site-packages/sklearn/utils/validation.py:1184: DataConversionWarning: A column-vector y was passed when a 1d array was expected. Please change the shape of y to (n_samples, ), for example using ravel().\n",
            "  y = column_or_1d(y, warn=True)\n",
            "/opt/anaconda3/envs/emo/lib/python3.9/site-packages/sklearn/utils/validation.py:1184: DataConversionWarning: A column-vector y was passed when a 1d array was expected. Please change the shape of y to (n_samples, ), for example using ravel().\n",
            "  y = column_or_1d(y, warn=True)\n",
            "/opt/anaconda3/envs/emo/lib/python3.9/site-packages/sklearn/utils/validation.py:1184: DataConversionWarning: A column-vector y was passed when a 1d array was expected. Please change the shape of y to (n_samples, ), for example using ravel().\n",
            "  y = column_or_1d(y, warn=True)\n",
            "/opt/anaconda3/envs/emo/lib/python3.9/site-packages/sklearn/utils/validation.py:1184: DataConversionWarning: A column-vector y was passed when a 1d array was expected. Please change the shape of y to (n_samples, ), for example using ravel().\n",
            "  y = column_or_1d(y, warn=True)\n",
            "/opt/anaconda3/envs/emo/lib/python3.9/site-packages/sklearn/utils/validation.py:1184: DataConversionWarning: A column-vector y was passed when a 1d array was expected. Please change the shape of y to (n_samples, ), for example using ravel().\n",
            "  y = column_or_1d(y, warn=True)\n",
            "/opt/anaconda3/envs/emo/lib/python3.9/site-packages/sklearn/utils/validation.py:1184: DataConversionWarning: A column-vector y was passed when a 1d array was expected. Please change the shape of y to (n_samples, ), for example using ravel().\n",
            "  y = column_or_1d(y, warn=True)\n",
            "/opt/anaconda3/envs/emo/lib/python3.9/site-packages/sklearn/utils/validation.py:1184: DataConversionWarning: A column-vector y was passed when a 1d array was expected. Please change the shape of y to (n_samples, ), for example using ravel().\n",
            "  y = column_or_1d(y, warn=True)\n",
            "/opt/anaconda3/envs/emo/lib/python3.9/site-packages/sklearn/utils/validation.py:1184: DataConversionWarning: A column-vector y was passed when a 1d array was expected. Please change the shape of y to (n_samples, ), for example using ravel().\n",
            "  y = column_or_1d(y, warn=True)\n",
            "/opt/anaconda3/envs/emo/lib/python3.9/site-packages/sklearn/utils/validation.py:1184: DataConversionWarning: A column-vector y was passed when a 1d array was expected. Please change the shape of y to (n_samples, ), for example using ravel().\n",
            "  y = column_or_1d(y, warn=True)\n",
            "/opt/anaconda3/envs/emo/lib/python3.9/site-packages/sklearn/utils/validation.py:1184: DataConversionWarning: A column-vector y was passed when a 1d array was expected. Please change the shape of y to (n_samples, ), for example using ravel().\n",
            "  y = column_or_1d(y, warn=True)\n",
            "/opt/anaconda3/envs/emo/lib/python3.9/site-packages/sklearn/utils/validation.py:1184: DataConversionWarning: A column-vector y was passed when a 1d array was expected. Please change the shape of y to (n_samples, ), for example using ravel().\n",
            "  y = column_or_1d(y, warn=True)\n",
            "/opt/anaconda3/envs/emo/lib/python3.9/site-packages/sklearn/utils/validation.py:1184: DataConversionWarning: A column-vector y was passed when a 1d array was expected. Please change the shape of y to (n_samples, ), for example using ravel().\n",
            "  y = column_or_1d(y, warn=True)\n",
            "/opt/anaconda3/envs/emo/lib/python3.9/site-packages/sklearn/utils/validation.py:1184: DataConversionWarning: A column-vector y was passed when a 1d array was expected. Please change the shape of y to (n_samples, ), for example using ravel().\n",
            "  y = column_or_1d(y, warn=True)\n",
            "/opt/anaconda3/envs/emo/lib/python3.9/site-packages/sklearn/utils/validation.py:1184: DataConversionWarning: A column-vector y was passed when a 1d array was expected. Please change the shape of y to (n_samples, ), for example using ravel().\n",
            "  y = column_or_1d(y, warn=True)\n",
            "/opt/anaconda3/envs/emo/lib/python3.9/site-packages/sklearn/utils/validation.py:1184: DataConversionWarning: A column-vector y was passed when a 1d array was expected. Please change the shape of y to (n_samples, ), for example using ravel().\n",
            "  y = column_or_1d(y, warn=True)\n",
            "/opt/anaconda3/envs/emo/lib/python3.9/site-packages/sklearn/utils/validation.py:1184: DataConversionWarning: A column-vector y was passed when a 1d array was expected. Please change the shape of y to (n_samples, ), for example using ravel().\n",
            "  y = column_or_1d(y, warn=True)\n",
            "/opt/anaconda3/envs/emo/lib/python3.9/site-packages/sklearn/utils/validation.py:1184: DataConversionWarning: A column-vector y was passed when a 1d array was expected. Please change the shape of y to (n_samples, ), for example using ravel().\n",
            "  y = column_or_1d(y, warn=True)\n",
            "/opt/anaconda3/envs/emo/lib/python3.9/site-packages/sklearn/utils/validation.py:1184: DataConversionWarning: A column-vector y was passed when a 1d array was expected. Please change the shape of y to (n_samples, ), for example using ravel().\n",
            "  y = column_or_1d(y, warn=True)\n",
            "/opt/anaconda3/envs/emo/lib/python3.9/site-packages/sklearn/utils/validation.py:1184: DataConversionWarning: A column-vector y was passed when a 1d array was expected. Please change the shape of y to (n_samples, ), for example using ravel().\n",
            "  y = column_or_1d(y, warn=True)\n",
            "/opt/anaconda3/envs/emo/lib/python3.9/site-packages/sklearn/utils/validation.py:1184: DataConversionWarning: A column-vector y was passed when a 1d array was expected. Please change the shape of y to (n_samples, ), for example using ravel().\n",
            "  y = column_or_1d(y, warn=True)\n",
            "/opt/anaconda3/envs/emo/lib/python3.9/site-packages/sklearn/utils/validation.py:1184: DataConversionWarning: A column-vector y was passed when a 1d array was expected. Please change the shape of y to (n_samples, ), for example using ravel().\n",
            "  y = column_or_1d(y, warn=True)\n",
            "/opt/anaconda3/envs/emo/lib/python3.9/site-packages/sklearn/utils/validation.py:1184: DataConversionWarning: A column-vector y was passed when a 1d array was expected. Please change the shape of y to (n_samples, ), for example using ravel().\n",
            "  y = column_or_1d(y, warn=True)\n",
            "/opt/anaconda3/envs/emo/lib/python3.9/site-packages/sklearn/utils/validation.py:1184: DataConversionWarning: A column-vector y was passed when a 1d array was expected. Please change the shape of y to (n_samples, ), for example using ravel().\n",
            "  y = column_or_1d(y, warn=True)\n",
            "/opt/anaconda3/envs/emo/lib/python3.9/site-packages/sklearn/utils/validation.py:1184: DataConversionWarning: A column-vector y was passed when a 1d array was expected. Please change the shape of y to (n_samples, ), for example using ravel().\n",
            "  y = column_or_1d(y, warn=True)\n",
            "/opt/anaconda3/envs/emo/lib/python3.9/site-packages/sklearn/utils/validation.py:1184: DataConversionWarning: A column-vector y was passed when a 1d array was expected. Please change the shape of y to (n_samples, ), for example using ravel().\n",
            "  y = column_or_1d(y, warn=True)\n",
            "/opt/anaconda3/envs/emo/lib/python3.9/site-packages/sklearn/utils/validation.py:1184: DataConversionWarning: A column-vector y was passed when a 1d array was expected. Please change the shape of y to (n_samples, ), for example using ravel().\n",
            "  y = column_or_1d(y, warn=True)\n",
            "/opt/anaconda3/envs/emo/lib/python3.9/site-packages/sklearn/utils/validation.py:1184: DataConversionWarning: A column-vector y was passed when a 1d array was expected. Please change the shape of y to (n_samples, ), for example using ravel().\n",
            "  y = column_or_1d(y, warn=True)\n",
            "/opt/anaconda3/envs/emo/lib/python3.9/site-packages/sklearn/utils/validation.py:1184: DataConversionWarning: A column-vector y was passed when a 1d array was expected. Please change the shape of y to (n_samples, ), for example using ravel().\n",
            "  y = column_or_1d(y, warn=True)\n",
            "/opt/anaconda3/envs/emo/lib/python3.9/site-packages/sklearn/utils/validation.py:1184: DataConversionWarning: A column-vector y was passed when a 1d array was expected. Please change the shape of y to (n_samples, ), for example using ravel().\n",
            "  y = column_or_1d(y, warn=True)\n",
            "/opt/anaconda3/envs/emo/lib/python3.9/site-packages/sklearn/utils/validation.py:1184: DataConversionWarning: A column-vector y was passed when a 1d array was expected. Please change the shape of y to (n_samples, ), for example using ravel().\n",
            "  y = column_or_1d(y, warn=True)\n",
            "/opt/anaconda3/envs/emo/lib/python3.9/site-packages/sklearn/utils/validation.py:1184: DataConversionWarning: A column-vector y was passed when a 1d array was expected. Please change the shape of y to (n_samples, ), for example using ravel().\n",
            "  y = column_or_1d(y, warn=True)\n",
            "/opt/anaconda3/envs/emo/lib/python3.9/site-packages/sklearn/utils/validation.py:1184: DataConversionWarning: A column-vector y was passed when a 1d array was expected. Please change the shape of y to (n_samples, ), for example using ravel().\n",
            "  y = column_or_1d(y, warn=True)\n",
            "/opt/anaconda3/envs/emo/lib/python3.9/site-packages/sklearn/utils/validation.py:1184: DataConversionWarning: A column-vector y was passed when a 1d array was expected. Please change the shape of y to (n_samples, ), for example using ravel().\n",
            "  y = column_or_1d(y, warn=True)\n",
            "/opt/anaconda3/envs/emo/lib/python3.9/site-packages/sklearn/utils/validation.py:1184: DataConversionWarning: A column-vector y was passed when a 1d array was expected. Please change the shape of y to (n_samples, ), for example using ravel().\n",
            "  y = column_or_1d(y, warn=True)\n",
            "/opt/anaconda3/envs/emo/lib/python3.9/site-packages/sklearn/utils/validation.py:1184: DataConversionWarning: A column-vector y was passed when a 1d array was expected. Please change the shape of y to (n_samples, ), for example using ravel().\n",
            "  y = column_or_1d(y, warn=True)\n",
            "/opt/anaconda3/envs/emo/lib/python3.9/site-packages/sklearn/utils/validation.py:1184: DataConversionWarning: A column-vector y was passed when a 1d array was expected. Please change the shape of y to (n_samples, ), for example using ravel().\n",
            "  y = column_or_1d(y, warn=True)\n",
            "/opt/anaconda3/envs/emo/lib/python3.9/site-packages/sklearn/utils/validation.py:1184: DataConversionWarning: A column-vector y was passed when a 1d array was expected. Please change the shape of y to (n_samples, ), for example using ravel().\n",
            "  y = column_or_1d(y, warn=True)\n",
            "/opt/anaconda3/envs/emo/lib/python3.9/site-packages/sklearn/utils/validation.py:1184: DataConversionWarning: A column-vector y was passed when a 1d array was expected. Please change the shape of y to (n_samples, ), for example using ravel().\n",
            "  y = column_or_1d(y, warn=True)\n",
            "/opt/anaconda3/envs/emo/lib/python3.9/site-packages/sklearn/utils/validation.py:1184: DataConversionWarning: A column-vector y was passed when a 1d array was expected. Please change the shape of y to (n_samples, ), for example using ravel().\n",
            "  y = column_or_1d(y, warn=True)\n",
            "/opt/anaconda3/envs/emo/lib/python3.9/site-packages/sklearn/utils/validation.py:1184: DataConversionWarning: A column-vector y was passed when a 1d array was expected. Please change the shape of y to (n_samples, ), for example using ravel().\n",
            "  y = column_or_1d(y, warn=True)\n",
            "/opt/anaconda3/envs/emo/lib/python3.9/site-packages/sklearn/utils/validation.py:1184: DataConversionWarning: A column-vector y was passed when a 1d array was expected. Please change the shape of y to (n_samples, ), for example using ravel().\n",
            "  y = column_or_1d(y, warn=True)\n",
            "/opt/anaconda3/envs/emo/lib/python3.9/site-packages/sklearn/utils/validation.py:1184: DataConversionWarning: A column-vector y was passed when a 1d array was expected. Please change the shape of y to (n_samples, ), for example using ravel().\n",
            "  y = column_or_1d(y, warn=True)\n",
            "/opt/anaconda3/envs/emo/lib/python3.9/site-packages/sklearn/utils/validation.py:1184: DataConversionWarning: A column-vector y was passed when a 1d array was expected. Please change the shape of y to (n_samples, ), for example using ravel().\n",
            "  y = column_or_1d(y, warn=True)\n",
            "/opt/anaconda3/envs/emo/lib/python3.9/site-packages/sklearn/utils/validation.py:1184: DataConversionWarning: A column-vector y was passed when a 1d array was expected. Please change the shape of y to (n_samples, ), for example using ravel().\n",
            "  y = column_or_1d(y, warn=True)\n",
            "/opt/anaconda3/envs/emo/lib/python3.9/site-packages/sklearn/utils/validation.py:1184: DataConversionWarning: A column-vector y was passed when a 1d array was expected. Please change the shape of y to (n_samples, ), for example using ravel().\n",
            "  y = column_or_1d(y, warn=True)\n",
            "/opt/anaconda3/envs/emo/lib/python3.9/site-packages/sklearn/utils/validation.py:1184: DataConversionWarning: A column-vector y was passed when a 1d array was expected. Please change the shape of y to (n_samples, ), for example using ravel().\n",
            "  y = column_or_1d(y, warn=True)\n",
            "/opt/anaconda3/envs/emo/lib/python3.9/site-packages/sklearn/utils/validation.py:1184: DataConversionWarning: A column-vector y was passed when a 1d array was expected. Please change the shape of y to (n_samples, ), for example using ravel().\n",
            "  y = column_or_1d(y, warn=True)\n",
            "/opt/anaconda3/envs/emo/lib/python3.9/site-packages/sklearn/utils/validation.py:1184: DataConversionWarning: A column-vector y was passed when a 1d array was expected. Please change the shape of y to (n_samples, ), for example using ravel().\n",
            "  y = column_or_1d(y, warn=True)\n",
            "/opt/anaconda3/envs/emo/lib/python3.9/site-packages/sklearn/utils/validation.py:1184: DataConversionWarning: A column-vector y was passed when a 1d array was expected. Please change the shape of y to (n_samples, ), for example using ravel().\n",
            "  y = column_or_1d(y, warn=True)\n",
            "/opt/anaconda3/envs/emo/lib/python3.9/site-packages/sklearn/utils/validation.py:1184: DataConversionWarning: A column-vector y was passed when a 1d array was expected. Please change the shape of y to (n_samples, ), for example using ravel().\n",
            "  y = column_or_1d(y, warn=True)\n",
            "/opt/anaconda3/envs/emo/lib/python3.9/site-packages/sklearn/utils/validation.py:1184: DataConversionWarning: A column-vector y was passed when a 1d array was expected. Please change the shape of y to (n_samples, ), for example using ravel().\n",
            "  y = column_or_1d(y, warn=True)\n",
            "/opt/anaconda3/envs/emo/lib/python3.9/site-packages/sklearn/utils/validation.py:1184: DataConversionWarning: A column-vector y was passed when a 1d array was expected. Please change the shape of y to (n_samples, ), for example using ravel().\n",
            "  y = column_or_1d(y, warn=True)\n",
            "/opt/anaconda3/envs/emo/lib/python3.9/site-packages/sklearn/utils/validation.py:1184: DataConversionWarning: A column-vector y was passed when a 1d array was expected. Please change the shape of y to (n_samples, ), for example using ravel().\n",
            "  y = column_or_1d(y, warn=True)\n",
            "/opt/anaconda3/envs/emo/lib/python3.9/site-packages/sklearn/utils/validation.py:1184: DataConversionWarning: A column-vector y was passed when a 1d array was expected. Please change the shape of y to (n_samples, ), for example using ravel().\n",
            "  y = column_or_1d(y, warn=True)\n",
            "/opt/anaconda3/envs/emo/lib/python3.9/site-packages/sklearn/utils/validation.py:1184: DataConversionWarning: A column-vector y was passed when a 1d array was expected. Please change the shape of y to (n_samples, ), for example using ravel().\n",
            "  y = column_or_1d(y, warn=True)\n",
            "/opt/anaconda3/envs/emo/lib/python3.9/site-packages/sklearn/utils/validation.py:1184: DataConversionWarning: A column-vector y was passed when a 1d array was expected. Please change the shape of y to (n_samples, ), for example using ravel().\n",
            "  y = column_or_1d(y, warn=True)\n",
            "/opt/anaconda3/envs/emo/lib/python3.9/site-packages/sklearn/utils/validation.py:1184: DataConversionWarning: A column-vector y was passed when a 1d array was expected. Please change the shape of y to (n_samples, ), for example using ravel().\n",
            "  y = column_or_1d(y, warn=True)\n",
            "/opt/anaconda3/envs/emo/lib/python3.9/site-packages/sklearn/utils/validation.py:1184: DataConversionWarning: A column-vector y was passed when a 1d array was expected. Please change the shape of y to (n_samples, ), for example using ravel().\n",
            "  y = column_or_1d(y, warn=True)\n",
            "/opt/anaconda3/envs/emo/lib/python3.9/site-packages/sklearn/utils/validation.py:1184: DataConversionWarning: A column-vector y was passed when a 1d array was expected. Please change the shape of y to (n_samples, ), for example using ravel().\n",
            "  y = column_or_1d(y, warn=True)\n",
            "/opt/anaconda3/envs/emo/lib/python3.9/site-packages/sklearn/utils/validation.py:1184: DataConversionWarning: A column-vector y was passed when a 1d array was expected. Please change the shape of y to (n_samples, ), for example using ravel().\n",
            "  y = column_or_1d(y, warn=True)\n",
            "/opt/anaconda3/envs/emo/lib/python3.9/site-packages/sklearn/utils/validation.py:1184: DataConversionWarning: A column-vector y was passed when a 1d array was expected. Please change the shape of y to (n_samples, ), for example using ravel().\n",
            "  y = column_or_1d(y, warn=True)\n",
            "/opt/anaconda3/envs/emo/lib/python3.9/site-packages/sklearn/utils/validation.py:1184: DataConversionWarning: A column-vector y was passed when a 1d array was expected. Please change the shape of y to (n_samples, ), for example using ravel().\n",
            "  y = column_or_1d(y, warn=True)\n",
            "/opt/anaconda3/envs/emo/lib/python3.9/site-packages/sklearn/utils/validation.py:1184: DataConversionWarning: A column-vector y was passed when a 1d array was expected. Please change the shape of y to (n_samples, ), for example using ravel().\n",
            "  y = column_or_1d(y, warn=True)\n",
            "/opt/anaconda3/envs/emo/lib/python3.9/site-packages/sklearn/utils/validation.py:1184: DataConversionWarning: A column-vector y was passed when a 1d array was expected. Please change the shape of y to (n_samples, ), for example using ravel().\n",
            "  y = column_or_1d(y, warn=True)\n",
            "/opt/anaconda3/envs/emo/lib/python3.9/site-packages/sklearn/utils/validation.py:1184: DataConversionWarning: A column-vector y was passed when a 1d array was expected. Please change the shape of y to (n_samples, ), for example using ravel().\n",
            "  y = column_or_1d(y, warn=True)\n",
            "/opt/anaconda3/envs/emo/lib/python3.9/site-packages/sklearn/utils/validation.py:1184: DataConversionWarning: A column-vector y was passed when a 1d array was expected. Please change the shape of y to (n_samples, ), for example using ravel().\n",
            "  y = column_or_1d(y, warn=True)\n",
            "/opt/anaconda3/envs/emo/lib/python3.9/site-packages/sklearn/utils/validation.py:1184: DataConversionWarning: A column-vector y was passed when a 1d array was expected. Please change the shape of y to (n_samples, ), for example using ravel().\n",
            "  y = column_or_1d(y, warn=True)\n",
            "/opt/anaconda3/envs/emo/lib/python3.9/site-packages/sklearn/utils/validation.py:1184: DataConversionWarning: A column-vector y was passed when a 1d array was expected. Please change the shape of y to (n_samples, ), for example using ravel().\n",
            "  y = column_or_1d(y, warn=True)\n",
            "/opt/anaconda3/envs/emo/lib/python3.9/site-packages/sklearn/utils/validation.py:1184: DataConversionWarning: A column-vector y was passed when a 1d array was expected. Please change the shape of y to (n_samples, ), for example using ravel().\n",
            "  y = column_or_1d(y, warn=True)\n",
            "/opt/anaconda3/envs/emo/lib/python3.9/site-packages/sklearn/utils/validation.py:1184: DataConversionWarning: A column-vector y was passed when a 1d array was expected. Please change the shape of y to (n_samples, ), for example using ravel().\n",
            "  y = column_or_1d(y, warn=True)\n",
            "/opt/anaconda3/envs/emo/lib/python3.9/site-packages/sklearn/utils/validation.py:1184: DataConversionWarning: A column-vector y was passed when a 1d array was expected. Please change the shape of y to (n_samples, ), for example using ravel().\n",
            "  y = column_or_1d(y, warn=True)\n",
            "/opt/anaconda3/envs/emo/lib/python3.9/site-packages/sklearn/utils/validation.py:1184: DataConversionWarning: A column-vector y was passed when a 1d array was expected. Please change the shape of y to (n_samples, ), for example using ravel().\n",
            "  y = column_or_1d(y, warn=True)\n",
            "/opt/anaconda3/envs/emo/lib/python3.9/site-packages/sklearn/utils/validation.py:1184: DataConversionWarning: A column-vector y was passed when a 1d array was expected. Please change the shape of y to (n_samples, ), for example using ravel().\n",
            "  y = column_or_1d(y, warn=True)\n",
            "/opt/anaconda3/envs/emo/lib/python3.9/site-packages/sklearn/utils/validation.py:1184: DataConversionWarning: A column-vector y was passed when a 1d array was expected. Please change the shape of y to (n_samples, ), for example using ravel().\n",
            "  y = column_or_1d(y, warn=True)\n",
            "/opt/anaconda3/envs/emo/lib/python3.9/site-packages/sklearn/utils/validation.py:1184: DataConversionWarning: A column-vector y was passed when a 1d array was expected. Please change the shape of y to (n_samples, ), for example using ravel().\n",
            "  y = column_or_1d(y, warn=True)\n",
            "/opt/anaconda3/envs/emo/lib/python3.9/site-packages/sklearn/utils/validation.py:1184: DataConversionWarning: A column-vector y was passed when a 1d array was expected. Please change the shape of y to (n_samples, ), for example using ravel().\n",
            "  y = column_or_1d(y, warn=True)\n",
            "/opt/anaconda3/envs/emo/lib/python3.9/site-packages/sklearn/utils/validation.py:1184: DataConversionWarning: A column-vector y was passed when a 1d array was expected. Please change the shape of y to (n_samples, ), for example using ravel().\n",
            "  y = column_or_1d(y, warn=True)\n",
            "/opt/anaconda3/envs/emo/lib/python3.9/site-packages/sklearn/utils/validation.py:1184: DataConversionWarning: A column-vector y was passed when a 1d array was expected. Please change the shape of y to (n_samples, ), for example using ravel().\n",
            "  y = column_or_1d(y, warn=True)\n",
            "/opt/anaconda3/envs/emo/lib/python3.9/site-packages/sklearn/utils/validation.py:1184: DataConversionWarning: A column-vector y was passed when a 1d array was expected. Please change the shape of y to (n_samples, ), for example using ravel().\n",
            "  y = column_or_1d(y, warn=True)\n",
            "/opt/anaconda3/envs/emo/lib/python3.9/site-packages/sklearn/utils/validation.py:1184: DataConversionWarning: A column-vector y was passed when a 1d array was expected. Please change the shape of y to (n_samples, ), for example using ravel().\n",
            "  y = column_or_1d(y, warn=True)\n",
            "/opt/anaconda3/envs/emo/lib/python3.9/site-packages/sklearn/utils/validation.py:1184: DataConversionWarning: A column-vector y was passed when a 1d array was expected. Please change the shape of y to (n_samples, ), for example using ravel().\n",
            "  y = column_or_1d(y, warn=True)\n",
            "/opt/anaconda3/envs/emo/lib/python3.9/site-packages/sklearn/utils/validation.py:1184: DataConversionWarning: A column-vector y was passed when a 1d array was expected. Please change the shape of y to (n_samples, ), for example using ravel().\n",
            "  y = column_or_1d(y, warn=True)\n",
            "/opt/anaconda3/envs/emo/lib/python3.9/site-packages/sklearn/utils/validation.py:1184: DataConversionWarning: A column-vector y was passed when a 1d array was expected. Please change the shape of y to (n_samples, ), for example using ravel().\n",
            "  y = column_or_1d(y, warn=True)\n",
            "/opt/anaconda3/envs/emo/lib/python3.9/site-packages/sklearn/utils/validation.py:1184: DataConversionWarning: A column-vector y was passed when a 1d array was expected. Please change the shape of y to (n_samples, ), for example using ravel().\n",
            "  y = column_or_1d(y, warn=True)\n",
            "/opt/anaconda3/envs/emo/lib/python3.9/site-packages/sklearn/utils/validation.py:1184: DataConversionWarning: A column-vector y was passed when a 1d array was expected. Please change the shape of y to (n_samples, ), for example using ravel().\n",
            "  y = column_or_1d(y, warn=True)\n",
            "/opt/anaconda3/envs/emo/lib/python3.9/site-packages/sklearn/utils/validation.py:1184: DataConversionWarning: A column-vector y was passed when a 1d array was expected. Please change the shape of y to (n_samples, ), for example using ravel().\n",
            "  y = column_or_1d(y, warn=True)\n",
            "/opt/anaconda3/envs/emo/lib/python3.9/site-packages/sklearn/utils/validation.py:1184: DataConversionWarning: A column-vector y was passed when a 1d array was expected. Please change the shape of y to (n_samples, ), for example using ravel().\n",
            "  y = column_or_1d(y, warn=True)\n",
            "/opt/anaconda3/envs/emo/lib/python3.9/site-packages/sklearn/utils/validation.py:1184: DataConversionWarning: A column-vector y was passed when a 1d array was expected. Please change the shape of y to (n_samples, ), for example using ravel().\n",
            "  y = column_or_1d(y, warn=True)\n",
            "/opt/anaconda3/envs/emo/lib/python3.9/site-packages/sklearn/utils/validation.py:1184: DataConversionWarning: A column-vector y was passed when a 1d array was expected. Please change the shape of y to (n_samples, ), for example using ravel().\n",
            "  y = column_or_1d(y, warn=True)\n",
            "/opt/anaconda3/envs/emo/lib/python3.9/site-packages/sklearn/utils/validation.py:1184: DataConversionWarning: A column-vector y was passed when a 1d array was expected. Please change the shape of y to (n_samples, ), for example using ravel().\n",
            "  y = column_or_1d(y, warn=True)\n",
            "/opt/anaconda3/envs/emo/lib/python3.9/site-packages/sklearn/utils/validation.py:1184: DataConversionWarning: A column-vector y was passed when a 1d array was expected. Please change the shape of y to (n_samples, ), for example using ravel().\n",
            "  y = column_or_1d(y, warn=True)\n",
            "/opt/anaconda3/envs/emo/lib/python3.9/site-packages/sklearn/utils/validation.py:1184: DataConversionWarning: A column-vector y was passed when a 1d array was expected. Please change the shape of y to (n_samples, ), for example using ravel().\n",
            "  y = column_or_1d(y, warn=True)\n",
            "/opt/anaconda3/envs/emo/lib/python3.9/site-packages/sklearn/utils/validation.py:1184: DataConversionWarning: A column-vector y was passed when a 1d array was expected. Please change the shape of y to (n_samples, ), for example using ravel().\n",
            "  y = column_or_1d(y, warn=True)\n",
            "/opt/anaconda3/envs/emo/lib/python3.9/site-packages/sklearn/utils/validation.py:1184: DataConversionWarning: A column-vector y was passed when a 1d array was expected. Please change the shape of y to (n_samples, ), for example using ravel().\n",
            "  y = column_or_1d(y, warn=True)\n"
          ]
        },
        {
          "name": "stdout",
          "output_type": "stream",
          "text": [
            "--- 7.311 seconds ---\n",
            "{'C': 1000000.0, 'gamma': 1e-05}\n",
            "Accuracy on the testing set is: 60.4%\n",
            "              precision    recall  f1-score   support\n",
            "\n",
            "           0       0.53      1.00      0.70         8\n",
            "           1       0.69      0.73      0.71        15\n",
            "           2       0.44      0.31      0.36        13\n",
            "           3       0.75      0.50      0.60        12\n",
            "\n",
            "    accuracy                           0.60        48\n",
            "   macro avg       0.60      0.64      0.59        48\n",
            "weighted avg       0.61      0.60      0.59        48\n",
            "\n"
          ]
        },
        {
          "name": "stderr",
          "output_type": "stream",
          "text": [
            "/opt/anaconda3/envs/emo/lib/python3.9/site-packages/sklearn/utils/validation.py:1184: DataConversionWarning: A column-vector y was passed when a 1d array was expected. Please change the shape of y to (n_samples, ), for example using ravel().\n",
            "  y = column_or_1d(y, warn=True)\n",
            "/opt/anaconda3/envs/emo/lib/python3.9/site-packages/sklearn/utils/validation.py:1184: DataConversionWarning: A column-vector y was passed when a 1d array was expected. Please change the shape of y to (n_samples, ), for example using ravel().\n",
            "  y = column_or_1d(y, warn=True)\n"
          ]
        }
      ],
      "source": [
        "svc = SVC()\n",
        "parameters = {\"C\": (100, 1e3, 1e4, 1e5, 1e6, 1e7, 1e8, 1e9), \"gamma\": (1e-08, 1e-7, 1e-6, 1e-5)}\n",
        "grid_search = GridSearchCV(svc, parameters, n_jobs=-1, cv=5)\n",
        "start_time = timeit.default_timer()\n",
        "grid_search.fit(X_train, Y_train)\n",
        "print(\"--- {0:.3f} seconds ---\".format(timeit.default_timer() - start_time))\n",
        "print(grid_search.best_params_)\n",
        "svc_best = grid_search.best_estimator_\n",
        "accuracy = svc_best.score(X_test, Y_test)\n",
        "print(\"Accuracy on the testing set is: {0:.1f}%\".format(accuracy*100))\n",
        "prediction = svc_best.predict(X_test)\n",
        "report = classification_report(Y_test, prediction)\n",
        "print(report)\n"
      ]
    },
    {
      "attachments": {},
      "cell_type": "markdown",
      "metadata": {},
      "source": [
        "# SVM"
      ]
    },
    {
      "cell_type": "code",
      "execution_count": 38,
      "metadata": {
        "id": "cUt4ETQuoo5I"
      },
      "outputs": [
        {
          "name": "stdout",
          "output_type": "stream",
          "text": [
            "accuracy: 0.4166666666666667\n",
            "precision: 0.4166666666666667\n",
            "recall: 0.4166666666666667\n",
            "f1 score: 0.4166666666666667\n"
          ]
        },
        {
          "name": "stderr",
          "output_type": "stream",
          "text": [
            "/opt/anaconda3/envs/emo/lib/python3.9/site-packages/sklearn/utils/validation.py:1184: DataConversionWarning: A column-vector y was passed when a 1d array was expected. Please change the shape of y to (n_samples, ), for example using ravel().\n",
            "  y = column_or_1d(y, warn=True)\n"
          ]
        }
      ],
      "source": [
        "from sklearn import svm\n",
        "from sklearn.metrics import accuracy_score, precision_score, recall_score, f1_score\n",
        "\n",
        "#create a SVM clssifier\n",
        "clf = svm.SVC(kernel='rbf', C=1.0)\n",
        "\n",
        "#train\n",
        "clf.fit(X_train, Y_train)\n",
        "#predict\n",
        "Y_preds = clf.predict(X_test)\n",
        "# Accuracy\n",
        "print(f\"accuracy: {accuracy_score(Y_test, Y_preds)}\")\n",
        "print(f\"precision: {precision_score(Y_test, Y_preds, average='micro')}\")\n",
        "print(f\"recall: {recall_score(Y_test, Y_preds, average='micro')}\")\n",
        "print(f\"f1 score: {f1_score(Y_test, Y_preds, average='micro')}\")\n"
      ]
    },
    {
      "attachments": {},
      "cell_type": "markdown",
      "metadata": {},
      "source": [
        "### RandomForest"
      ]
    },
    {
      "cell_type": "code",
      "execution_count": 39,
      "metadata": {},
      "outputs": [
        {
          "name": "stdout",
          "output_type": "stream",
          "text": [
            "              precision    recall  f1-score   support\n",
            "\n",
            "           0       0.17      0.50      0.26         8\n",
            "           1       0.56      0.33      0.42        15\n",
            "           2       0.43      0.23      0.30        13\n",
            "           3       0.33      0.25      0.29        12\n",
            "\n",
            "    accuracy                           0.31        48\n",
            "   macro avg       0.37      0.33      0.32        48\n",
            "weighted avg       0.40      0.31      0.33        48\n",
            "\n"
          ]
        },
        {
          "name": "stderr",
          "output_type": "stream",
          "text": [
            "/opt/anaconda3/envs/emo/lib/python3.9/site-packages/sklearn/base.py:1151: DataConversionWarning: A column-vector y was passed when a 1d array was expected. Please change the shape of y to (n_samples,), for example using ravel().\n",
            "  return fit_method(estimator, *args, **kwargs)\n"
          ]
        }
      ],
      "source": [
        "import numpy as np\n",
        "# from sklearn.datasets import load_iris\n",
        "from sklearn.ensemble import RandomForestClassifier\n",
        "from sklearn.metrics import classification_report\n",
        "\n",
        "# Load the Iris dataset\n",
        "# iris = load_iris()\n",
        "\n",
        "# Split the data into training and testing sets\n",
        "# X_train, X_test, y_train, y_test = train_test_split(iris.data, iris.target, test_size=0.25)\n",
        "\n",
        "# Create the random forest classifier\n",
        "clf_rfc = RandomForestClassifier(n_estimators=10, criterion='entropy', random_state=0)\n",
        "\n",
        "# Train the classifier\n",
        "clf_rfc.fit(X_train, Y_train)\n",
        "\n",
        "# Make predictions on the test set\n",
        "Y_preds = clf_rfc.predict(X_test)\n",
        "\n",
        "# # Calculate the accuracy\n",
        "# accuracy = np.mean(y_pred == y_test)\n",
        "# print('Accuracy:', accuracy)\n",
        "print(classification_report(Y_test, Y_preds))"
      ]
    },
    {
      "attachments": {},
      "cell_type": "markdown",
      "metadata": {},
      "source": [
        "### LightGBM"
      ]
    },
    {
      "attachments": {},
      "cell_type": "markdown",
      "metadata": {},
      "source": [
        "### GradientBoosted"
      ]
    },
    {
      "cell_type": "code",
      "execution_count": 50,
      "metadata": {},
      "outputs": [
        {
          "name": "stderr",
          "output_type": "stream",
          "text": [
            "/opt/anaconda3/envs/emo/lib/python3.9/site-packages/sklearn/ensemble/_gb.py:424: DataConversionWarning: A column-vector y was passed when a 1d array was expected. Please change the shape of y to (n_samples, ), for example using ravel().\n",
            "  \n"
          ]
        },
        {
          "name": "stdout",
          "output_type": "stream",
          "text": [
            "              precision    recall  f1-score   support\n",
            "\n",
            "           0       0.47      1.00      0.64         8\n",
            "           1       0.58      0.47      0.52        15\n",
            "           2       0.50      0.31      0.38        13\n",
            "           3       0.36      0.33      0.35        12\n",
            "\n",
            "    accuracy                           0.48        48\n",
            "   macro avg       0.48      0.53      0.47        48\n",
            "weighted avg       0.49      0.48      0.46        48\n",
            "\n"
          ]
        }
      ],
      "source": [
        "import numpy as np\n",
        "# from sklearn.datasets import load_iris\n",
        "from sklearn.ensemble import GradientBoostingClassifier\n",
        "\n",
        "# Load the Iris dataset\n",
        "# iris = load_iris()\n",
        "\n",
        "# Split the data into training and testing sets\n",
        "# X_train, X_test, y_train, y_test = train_test_split(iris.data, iris.target, test_size=0.25)\n",
        "\n",
        "# Create the gradient boosted tree classifier\n",
        "clf = GradientBoostingClassifier(n_estimators=100, learning_rate=0.01, max_depth=3, random_state=0)\n",
        "\n",
        "# Train the classifier\n",
        "clf.fit(X_train, Y_train)\n",
        "\n",
        "# Make predictions on the test set\n",
        "Y_preds = clf.predict(X_test)\n",
        "\n",
        "# Calculate the accuracy\n",
        "print(classification_report(Y_test, Y_preds))"
      ]
    },
    {
      "cell_type": "code",
      "execution_count": null,
      "metadata": {},
      "outputs": [],
      "source": []
    }
  ],
  "metadata": {
    "colab": {
      "collapsed_sections": [],
      "name": "eeg-emotion-python.ipynb",
      "provenance": []
    },
    "kernelspec": {
      "display_name": "Python 3",
      "name": "python3"
    },
    "language_info": {
      "codemirror_mode": {
        "name": "ipython",
        "version": 3
      },
      "file_extension": ".py",
      "mimetype": "text/x-python",
      "name": "python",
      "nbconvert_exporter": "python",
      "pygments_lexer": "ipython3",
      "version": "3.9.16"
    }
  },
  "nbformat": 4,
  "nbformat_minor": 0
}
